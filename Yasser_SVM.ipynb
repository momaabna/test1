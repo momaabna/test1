{
  "nbformat": 4,
  "nbformat_minor": 0,
  "metadata": {
    "colab": {
      "name": "Yasser_SVM.ipynb",
      "version": "0.3.2",
      "provenance": []
    },
    "kernelspec": {
      "name": "python3",
      "display_name": "Python 3"
    }
  },
  "cells": [
    {
      "cell_type": "code",
      "metadata": {
        "id": "bkcbf5NJSegs",
        "colab_type": "code",
        "colab": {}
      },
      "source": [
        "from sklearn import svm\n",
        "import numpy as np\n",
        "from sklearn.metrics import accuracy_score,confusion_matrix"
      ],
      "execution_count": 0,
      "outputs": []
    },
    {
      "cell_type": "code",
      "metadata": {
        "id": "M3RHtWPUT8Rl",
        "colab_type": "code",
        "outputId": "c40f7054-abd5-4b5a-ed40-b5f11ef02bfe",
        "colab": {
          "base_uri": "https://localhost:8080/",
          "height": 1000
        }
      },
      "source": [
        "for kernel in ('linear', 'poly', 'rbf','sigmoid'):\n",
        "    print('Fitting Model With '+kernel+' Kernel')\n",
        "    model =svm.SVC(kernel=kernel)\n",
        "    print('Model Fitted')\n",
        "\n",
        "    X = np.load('images.npy')\n",
        "    X =np.reshape(X,[900,1200])\n",
        "    Y = np.load('labels.npy')\n",
        "    model.fit(X,Y)\n",
        "    x_test = np.load('test_images.npy')\n",
        "    y_test = np.load('test_labels.npy')\n",
        "    y_t=model.predict(x_test)\n",
        "    print(accuracy_score(y_test,y_t))\n",
        "    print(confusion_matrix(y_test,y_t))\n",
        "    print('------------------------------------')"
      ],
      "execution_count": 19,
      "outputs": [
        {
          "output_type": "stream",
          "text": [
            "Fitting Model With linear Kernel\n",
            "Model Fitted\n"
          ],
          "name": "stdout"
        },
        {
          "output_type": "stream",
          "text": [
            "/usr/local/lib/python3.6/dist-packages/sklearn/utils/validation.py:724: DataConversionWarning: A column-vector y was passed when a 1d array was expected. Please change the shape of y to (n_samples, ), for example using ravel().\n",
            "  y = column_or_1d(y, warn=True)\n"
          ],
          "name": "stderr"
        },
        {
          "output_type": "stream",
          "text": [
            "0.23\n",
            "[[10  0  0  0  0  0  0  0  0  0]\n",
            " [ 0  2  1  0  0  2  1  1  1  2]\n",
            " [ 0  0  2  0  0  4  0  4  0  0]\n",
            " [ 0  0  2  1  2  1  1  1  2  0]\n",
            " [ 0  4  1  4  0  1  0  0  0  0]\n",
            " [ 0  1  0  0  1  3  0  0  2  3]\n",
            " [ 0  3  1  1  1  1  0  2  0  1]\n",
            " [ 0  1  1  0  1  4  0  0  3  0]\n",
            " [ 0  2  0  0  0  1  0  2  2  3]\n",
            " [ 0  1  0  0  1  4  0  0  1  3]]\n",
            "------------------------------------\n",
            "Fitting Model With poly Kernel\n",
            "Model Fitted\n"
          ],
          "name": "stdout"
        },
        {
          "output_type": "stream",
          "text": [
            "/usr/local/lib/python3.6/dist-packages/sklearn/utils/validation.py:724: DataConversionWarning: A column-vector y was passed when a 1d array was expected. Please change the shape of y to (n_samples, ), for example using ravel().\n",
            "  y = column_or_1d(y, warn=True)\n",
            "/usr/local/lib/python3.6/dist-packages/sklearn/svm/base.py:193: FutureWarning: The default value of gamma will change from 'auto' to 'scale' in version 0.22 to account better for unscaled features. Set gamma explicitly to 'auto' or 'scale' to avoid this warning.\n",
            "  \"avoid this warning.\", FutureWarning)\n"
          ],
          "name": "stderr"
        },
        {
          "output_type": "stream",
          "text": [
            "0.1\n",
            "[[10  0  0  0  0  0  0  0  0  0]\n",
            " [10  0  0  0  0  0  0  0  0  0]\n",
            " [10  0  0  0  0  0  0  0  0  0]\n",
            " [ 7  0  0  0  0  1  0  0  0  2]\n",
            " [ 4  0  0  0  0  2  0  1  0  3]\n",
            " [10  0  0  0  0  0  0  0  0  0]\n",
            " [ 2  0  0  0  0  3  0  1  0  4]\n",
            " [10  0  0  0  0  0  0  0  0  0]\n",
            " [10  0  0  0  0  0  0  0  0  0]\n",
            " [10  0  0  0  0  0  0  0  0  0]]\n",
            "------------------------------------\n",
            "Fitting Model With rbf Kernel\n",
            "Model Fitted\n"
          ],
          "name": "stdout"
        },
        {
          "output_type": "stream",
          "text": [
            "/usr/local/lib/python3.6/dist-packages/sklearn/utils/validation.py:724: DataConversionWarning: A column-vector y was passed when a 1d array was expected. Please change the shape of y to (n_samples, ), for example using ravel().\n",
            "  y = column_or_1d(y, warn=True)\n",
            "/usr/local/lib/python3.6/dist-packages/sklearn/svm/base.py:193: FutureWarning: The default value of gamma will change from 'auto' to 'scale' in version 0.22 to account better for unscaled features. Set gamma explicitly to 'auto' or 'scale' to avoid this warning.\n",
            "  \"avoid this warning.\", FutureWarning)\n"
          ],
          "name": "stderr"
        },
        {
          "output_type": "stream",
          "text": [
            "0.51\n",
            "[[10  0  0  0  0  0  0  0  0  0]\n",
            " [ 0  7  0  0  0  0  0  3  0  0]\n",
            " [ 0  0  2  0  0  2  0  6  0  0]\n",
            " [ 0  0  0 10  0  0  0  0  0  0]\n",
            " [ 0  0  0  1  6  0  3  0  0  0]\n",
            " [ 0  0  1  0  0  9  0  0  0  0]\n",
            " [ 0  0  0  2  6  0  2  0  0  0]\n",
            " [ 0  0  3  0  0  2  0  0  0  5]\n",
            " [ 0  0  0  0  0  8  0  0  1  1]\n",
            " [ 0  0  1  0  0  5  0  0  0  4]]\n",
            "------------------------------------\n",
            "Fitting Model With sigmoid Kernel\n",
            "Model Fitted\n"
          ],
          "name": "stdout"
        },
        {
          "output_type": "stream",
          "text": [
            "/usr/local/lib/python3.6/dist-packages/sklearn/utils/validation.py:724: DataConversionWarning: A column-vector y was passed when a 1d array was expected. Please change the shape of y to (n_samples, ), for example using ravel().\n",
            "  y = column_or_1d(y, warn=True)\n",
            "/usr/local/lib/python3.6/dist-packages/sklearn/svm/base.py:193: FutureWarning: The default value of gamma will change from 'auto' to 'scale' in version 0.22 to account better for unscaled features. Set gamma explicitly to 'auto' or 'scale' to avoid this warning.\n",
            "  \"avoid this warning.\", FutureWarning)\n"
          ],
          "name": "stderr"
        },
        {
          "output_type": "stream",
          "text": [
            "0.27\n",
            "[[10  0  0  0  0  0  0  0  0  0]\n",
            " [ 0  0  1  0  0  2  0  5  1  1]\n",
            " [ 0  0  1  0  0  4  0  5  0  0]\n",
            " [ 0  0  1  1  0  1  0  2  3  2]\n",
            " [ 1  0  4  0  1  2  0  1  0  1]\n",
            " [ 0  0  1  0  0  9  0  0  0  0]\n",
            " [ 0  0  1  1  0  0  0  4  1  3]\n",
            " [ 0  0  3  0  0  4  0  0  0  3]\n",
            " [ 0  0  0  0  0  9  0  0  1  0]\n",
            " [ 0  0  1  0  0  4  0  1  0  4]]\n",
            "------------------------------------\n"
          ],
          "name": "stdout"
        }
      ]
    },
    {
      "cell_type": "code",
      "metadata": {
        "id": "MGPQhO9FUV5p",
        "colab_type": "code",
        "outputId": "2671d0b0-938d-4798-b653-fa154e7309dd",
        "colab": {
          "base_uri": "https://localhost:8080/",
          "height": 1000
        }
      },
      "source": [
        "for i in range(1,20,1):\n",
        "    print('Fitting Model With '+'poly'+' Kernel and Degree '+str(i))\n",
        "    model =svm.SVC(kernel='poly',degree=i)\n",
        "    print('Model Fitted')\n",
        "    X = np.load('images.npy')\n",
        "    X =np.reshape(X,[900,1200])\n",
        "    Y = np.load('labels.npy')\n",
        "    model.fit(X,Y)\n",
        "    x_test = np.load('test_images.npy')\n",
        "    y_test = np.load('test_labels.npy')\n",
        "    y_t=model.predict(x_test)\n",
        "    print(accuracy_score(y_test,y_t))\n",
        "    print(confusion_matrix(y_test,y_t))\n",
        "    print('------------------------------------')"
      ],
      "execution_count": 0,
      "outputs": [
        {
          "output_type": "stream",
          "text": [
            "Fitting Model With poly Kernel and Degree 1\n",
            "Model Fitted\n"
          ],
          "name": "stdout"
        },
        {
          "output_type": "stream",
          "text": [
            "/usr/local/lib/python3.6/dist-packages/sklearn/utils/validation.py:724: DataConversionWarning: A column-vector y was passed when a 1d array was expected. Please change the shape of y to (n_samples, ), for example using ravel().\n",
            "  y = column_or_1d(y, warn=True)\n",
            "/usr/local/lib/python3.6/dist-packages/sklearn/svm/base.py:193: FutureWarning: The default value of gamma will change from 'auto' to 'scale' in version 0.22 to account better for unscaled features. Set gamma explicitly to 'auto' or 'scale' to avoid this warning.\n",
            "  \"avoid this warning.\", FutureWarning)\n"
          ],
          "name": "stderr"
        },
        {
          "output_type": "stream",
          "text": [
            "0.27\n",
            "[[10  0  0  0  0  0  0  0  0  0]\n",
            " [ 0  0  1  0  0  2  0  5  1  1]\n",
            " [ 0  0  1  0  0  4  0  5  0  0]\n",
            " [ 0  0  1  1  0  1  0  2  3  2]\n",
            " [ 1  0  4  0  1  2  0  1  0  1]\n",
            " [ 0  0  1  0  0  9  0  0  0  0]\n",
            " [ 0  0  1  1  0  0  0  4  1  3]\n",
            " [ 0  0  3  0  0  4  0  0  0  3]\n",
            " [ 0  0  0  0  0  9  0  0  1  0]\n",
            " [ 0  0  1  0  0  4  0  1  0  4]]\n",
            "------------------------------------\n",
            "Fitting Model With poly Kernel and Degree 2\n",
            "Model Fitted\n"
          ],
          "name": "stdout"
        },
        {
          "output_type": "stream",
          "text": [
            "/usr/local/lib/python3.6/dist-packages/sklearn/utils/validation.py:724: DataConversionWarning: A column-vector y was passed when a 1d array was expected. Please change the shape of y to (n_samples, ), for example using ravel().\n",
            "  y = column_or_1d(y, warn=True)\n",
            "/usr/local/lib/python3.6/dist-packages/sklearn/svm/base.py:193: FutureWarning: The default value of gamma will change from 'auto' to 'scale' in version 0.22 to account better for unscaled features. Set gamma explicitly to 'auto' or 'scale' to avoid this warning.\n",
            "  \"avoid this warning.\", FutureWarning)\n"
          ],
          "name": "stderr"
        },
        {
          "output_type": "stream",
          "text": [
            "0.36\n",
            "[[10  0  0  0  0  0  0  0  0  0]\n",
            " [ 0 10  0  0  0  0  0  0  0  0]\n",
            " [ 6  0  2  0  0  2  0  0  0  0]\n",
            " [ 0  0  1  4  0  0  0  0  1  4]\n",
            " [ 0  0  0  0  0  0  0  6  0  4]\n",
            " [ 6  0  0  0  0  4  0  0  0  0]\n",
            " [ 0  0  4  0  0  0  0  6  0  0]\n",
            " [ 6  0  0  0  0  2  0  2  0  0]\n",
            " [10  0  0  0  0  0  0  0  0  0]\n",
            " [ 6  0  0  0  0  0  0  0  0  4]]\n",
            "------------------------------------\n",
            "Fitting Model With poly Kernel and Degree 3\n",
            "Model Fitted\n"
          ],
          "name": "stdout"
        },
        {
          "output_type": "stream",
          "text": [
            "/usr/local/lib/python3.6/dist-packages/sklearn/utils/validation.py:724: DataConversionWarning: A column-vector y was passed when a 1d array was expected. Please change the shape of y to (n_samples, ), for example using ravel().\n",
            "  y = column_or_1d(y, warn=True)\n",
            "/usr/local/lib/python3.6/dist-packages/sklearn/svm/base.py:193: FutureWarning: The default value of gamma will change from 'auto' to 'scale' in version 0.22 to account better for unscaled features. Set gamma explicitly to 'auto' or 'scale' to avoid this warning.\n",
            "  \"avoid this warning.\", FutureWarning)\n"
          ],
          "name": "stderr"
        },
        {
          "output_type": "stream",
          "text": [
            "0.1\n",
            "[[10  0  0  0  0  0  0  0  0  0]\n",
            " [10  0  0  0  0  0  0  0  0  0]\n",
            " [10  0  0  0  0  0  0  0  0  0]\n",
            " [ 7  0  0  0  0  1  0  0  0  2]\n",
            " [ 4  0  0  0  0  2  0  1  0  3]\n",
            " [10  0  0  0  0  0  0  0  0  0]\n",
            " [ 2  0  0  0  0  3  0  1  0  4]\n",
            " [10  0  0  0  0  0  0  0  0  0]\n",
            " [10  0  0  0  0  0  0  0  0  0]\n",
            " [10  0  0  0  0  0  0  0  0  0]]\n",
            "------------------------------------\n",
            "Fitting Model With poly Kernel and Degree 4\n",
            "Model Fitted\n"
          ],
          "name": "stdout"
        },
        {
          "output_type": "stream",
          "text": [
            "/usr/local/lib/python3.6/dist-packages/sklearn/utils/validation.py:724: DataConversionWarning: A column-vector y was passed when a 1d array was expected. Please change the shape of y to (n_samples, ), for example using ravel().\n",
            "  y = column_or_1d(y, warn=True)\n",
            "/usr/local/lib/python3.6/dist-packages/sklearn/svm/base.py:193: FutureWarning: The default value of gamma will change from 'auto' to 'scale' in version 0.22 to account better for unscaled features. Set gamma explicitly to 'auto' or 'scale' to avoid this warning.\n",
            "  \"avoid this warning.\", FutureWarning)\n"
          ],
          "name": "stderr"
        },
        {
          "output_type": "stream",
          "text": [
            "0.1\n",
            "[[10  0  0  0  0  0  0  0  0  0]\n",
            " [10  0  0  0  0  0  0  0  0  0]\n",
            " [10  0  0  0  0  0  0  0  0  0]\n",
            " [ 5  0  0  0  0  0  0  0  0  5]\n",
            " [ 0  0  0  0  0  0  0  3  0  7]\n",
            " [10  0  0  0  0  0  0  0  0  0]\n",
            " [ 0  0  2  0  0  1  0  2  0  5]\n",
            " [10  0  0  0  0  0  0  0  0  0]\n",
            " [10  0  0  0  0  0  0  0  0  0]\n",
            " [10  0  0  0  0  0  0  0  0  0]]\n",
            "------------------------------------\n",
            "Fitting Model With poly Kernel and Degree 5\n",
            "Model Fitted\n"
          ],
          "name": "stdout"
        },
        {
          "output_type": "stream",
          "text": [
            "/usr/local/lib/python3.6/dist-packages/sklearn/utils/validation.py:724: DataConversionWarning: A column-vector y was passed when a 1d array was expected. Please change the shape of y to (n_samples, ), for example using ravel().\n",
            "  y = column_or_1d(y, warn=True)\n",
            "/usr/local/lib/python3.6/dist-packages/sklearn/svm/base.py:193: FutureWarning: The default value of gamma will change from 'auto' to 'scale' in version 0.22 to account better for unscaled features. Set gamma explicitly to 'auto' or 'scale' to avoid this warning.\n",
            "  \"avoid this warning.\", FutureWarning)\n"
          ],
          "name": "stderr"
        },
        {
          "output_type": "stream",
          "text": [
            "0.1\n",
            "[[10  0  0  0  0  0  0  0  0  0]\n",
            " [10  0  0  0  0  0  0  0  0  0]\n",
            " [10  0  0  0  0  0  0  0  0  0]\n",
            " [10  0  0  0  0  0  0  0  0  0]\n",
            " [ 4  0  0  0  0  2  0  1  0  3]\n",
            " [10  0  0  0  0  0  0  0  0  0]\n",
            " [ 8  0  0  0  0  1  0  0  0  1]\n",
            " [10  0  0  0  0  0  0  0  0  0]\n",
            " [10  0  0  0  0  0  0  0  0  0]\n",
            " [10  0  0  0  0  0  0  0  0  0]]\n",
            "------------------------------------\n",
            "Fitting Model With poly Kernel and Degree 6\n",
            "Model Fitted\n"
          ],
          "name": "stdout"
        },
        {
          "output_type": "stream",
          "text": [
            "/usr/local/lib/python3.6/dist-packages/sklearn/utils/validation.py:724: DataConversionWarning: A column-vector y was passed when a 1d array was expected. Please change the shape of y to (n_samples, ), for example using ravel().\n",
            "  y = column_or_1d(y, warn=True)\n",
            "/usr/local/lib/python3.6/dist-packages/sklearn/svm/base.py:193: FutureWarning: The default value of gamma will change from 'auto' to 'scale' in version 0.22 to account better for unscaled features. Set gamma explicitly to 'auto' or 'scale' to avoid this warning.\n",
            "  \"avoid this warning.\", FutureWarning)\n"
          ],
          "name": "stderr"
        },
        {
          "output_type": "stream",
          "text": [
            "0.1\n",
            "[[10  0  0  0  0  0  0  0  0  0]\n",
            " [10  0  0  0  0  0  0  0  0  0]\n",
            " [10  0  0  0  0  0  0  0  0  0]\n",
            " [10  0  0  0  0  0  0  0  0  0]\n",
            " [ 0  0  0  0  0  0  0  1  0  9]\n",
            " [10  0  0  0  0  0  0  0  0  0]\n",
            " [ 0  0  1  0  0  4  0  0  0  5]\n",
            " [10  0  0  0  0  0  0  0  0  0]\n",
            " [10  0  0  0  0  0  0  0  0  0]\n",
            " [10  0  0  0  0  0  0  0  0  0]]\n",
            "------------------------------------\n",
            "Fitting Model With poly Kernel and Degree 7\n",
            "Model Fitted\n"
          ],
          "name": "stdout"
        },
        {
          "output_type": "stream",
          "text": [
            "/usr/local/lib/python3.6/dist-packages/sklearn/utils/validation.py:724: DataConversionWarning: A column-vector y was passed when a 1d array was expected. Please change the shape of y to (n_samples, ), for example using ravel().\n",
            "  y = column_or_1d(y, warn=True)\n",
            "/usr/local/lib/python3.6/dist-packages/sklearn/svm/base.py:193: FutureWarning: The default value of gamma will change from 'auto' to 'scale' in version 0.22 to account better for unscaled features. Set gamma explicitly to 'auto' or 'scale' to avoid this warning.\n",
            "  \"avoid this warning.\", FutureWarning)\n"
          ],
          "name": "stderr"
        },
        {
          "output_type": "stream",
          "text": [
            "0.1\n",
            "[[10  0  0  0  0  0  0  0  0  0]\n",
            " [10  0  0  0  0  0  0  0  0  0]\n",
            " [10  0  0  0  0  0  0  0  0  0]\n",
            " [10  0  0  0  0  0  0  0  0  0]\n",
            " [ 6  0  0  0  0  0  0  1  0  3]\n",
            " [10  0  0  0  0  0  0  0  0  0]\n",
            " [ 9  0  0  0  0  0  0  0  0  1]\n",
            " [10  0  0  0  0  0  0  0  0  0]\n",
            " [10  0  0  0  0  0  0  0  0  0]\n",
            " [10  0  0  0  0  0  0  0  0  0]]\n",
            "------------------------------------\n",
            "Fitting Model With poly Kernel and Degree 8\n",
            "Model Fitted\n"
          ],
          "name": "stdout"
        },
        {
          "output_type": "stream",
          "text": [
            "/usr/local/lib/python3.6/dist-packages/sklearn/utils/validation.py:724: DataConversionWarning: A column-vector y was passed when a 1d array was expected. Please change the shape of y to (n_samples, ), for example using ravel().\n",
            "  y = column_or_1d(y, warn=True)\n",
            "/usr/local/lib/python3.6/dist-packages/sklearn/svm/base.py:193: FutureWarning: The default value of gamma will change from 'auto' to 'scale' in version 0.22 to account better for unscaled features. Set gamma explicitly to 'auto' or 'scale' to avoid this warning.\n",
            "  \"avoid this warning.\", FutureWarning)\n"
          ],
          "name": "stderr"
        },
        {
          "output_type": "stream",
          "text": [
            "0.1\n",
            "[[10  0  0  0  0  0  0  0  0  0]\n",
            " [10  0  0  0  0  0  0  0  0  0]\n",
            " [10  0  0  0  0  0  0  0  0  0]\n",
            " [10  0  0  0  0  0  0  0  0  0]\n",
            " [ 0  0  0  0  0  0  0  0  0 10]\n",
            " [10  0  0  0  0  0  0  0  0  0]\n",
            " [ 3  0  1  0  0  3  0  0  0  3]\n",
            " [10  0  0  0  0  0  0  0  0  0]\n",
            " [10  0  0  0  0  0  0  0  0  0]\n",
            " [10  0  0  0  0  0  0  0  0  0]]\n",
            "------------------------------------\n",
            "Fitting Model With poly Kernel and Degree 9\n",
            "Model Fitted\n"
          ],
          "name": "stdout"
        },
        {
          "output_type": "stream",
          "text": [
            "/usr/local/lib/python3.6/dist-packages/sklearn/utils/validation.py:724: DataConversionWarning: A column-vector y was passed when a 1d array was expected. Please change the shape of y to (n_samples, ), for example using ravel().\n",
            "  y = column_or_1d(y, warn=True)\n",
            "/usr/local/lib/python3.6/dist-packages/sklearn/svm/base.py:193: FutureWarning: The default value of gamma will change from 'auto' to 'scale' in version 0.22 to account better for unscaled features. Set gamma explicitly to 'auto' or 'scale' to avoid this warning.\n",
            "  \"avoid this warning.\", FutureWarning)\n"
          ],
          "name": "stderr"
        },
        {
          "output_type": "stream",
          "text": [
            "0.19\n",
            "[[10  0  0  0  0  0  0  0  0  0]\n",
            " [ 3  0  0  0  0  5  0  0  0  2]\n",
            " [ 2  0  0  0  0  6  0  0  0  2]\n",
            " [ 0  0  0  0  0  2  0  0  0  8]\n",
            " [ 2  0  0  0  0  4  0  0  0  4]\n",
            " [ 2  0  0  0  0  5  0  0  0  3]\n",
            " [ 1  0  0  0  0  5  0  0  0  4]\n",
            " [ 1  0  0  0  0  4  0  0  0  5]\n",
            " [ 1  0  0  0  0  3  0  0  0  6]\n",
            " [ 5  0  0  0  0  1  0  0  0  4]]\n",
            "------------------------------------\n",
            "Fitting Model With poly Kernel and Degree 10\n",
            "Model Fitted\n"
          ],
          "name": "stdout"
        },
        {
          "output_type": "stream",
          "text": [
            "/usr/local/lib/python3.6/dist-packages/sklearn/utils/validation.py:724: DataConversionWarning: A column-vector y was passed when a 1d array was expected. Please change the shape of y to (n_samples, ), for example using ravel().\n",
            "  y = column_or_1d(y, warn=True)\n",
            "/usr/local/lib/python3.6/dist-packages/sklearn/svm/base.py:193: FutureWarning: The default value of gamma will change from 'auto' to 'scale' in version 0.22 to account better for unscaled features. Set gamma explicitly to 'auto' or 'scale' to avoid this warning.\n",
            "  \"avoid this warning.\", FutureWarning)\n"
          ],
          "name": "stderr"
        },
        {
          "output_type": "stream",
          "text": [
            "0.3\n",
            "[[10  0  0  0  0  0  0  0  0  0]\n",
            " [ 0  0  0  0  0  5  0  0  0  5]\n",
            " [ 0  0  0  0  0  5  0  0  0  5]\n",
            " [ 0  0  0  0  0  0  0  0  0 10]\n",
            " [ 0  0  0  0  0  0  0  0  0 10]\n",
            " [ 0  0  0  0  0 10  0  0  0  0]\n",
            " [ 0  0  1  0  0  2  0  0  0  7]\n",
            " [ 0  0  0  0  0  1  0  0  0  9]\n",
            " [ 0  0  0  0  0  0  0  0  0 10]\n",
            " [ 0  0  0  0  0  0  0  0  0 10]]\n",
            "------------------------------------\n",
            "Fitting Model With poly Kernel and Degree 11\n",
            "Model Fitted\n"
          ],
          "name": "stdout"
        },
        {
          "output_type": "stream",
          "text": [
            "/usr/local/lib/python3.6/dist-packages/sklearn/utils/validation.py:724: DataConversionWarning: A column-vector y was passed when a 1d array was expected. Please change the shape of y to (n_samples, ), for example using ravel().\n",
            "  y = column_or_1d(y, warn=True)\n",
            "/usr/local/lib/python3.6/dist-packages/sklearn/svm/base.py:193: FutureWarning: The default value of gamma will change from 'auto' to 'scale' in version 0.22 to account better for unscaled features. Set gamma explicitly to 'auto' or 'scale' to avoid this warning.\n",
            "  \"avoid this warning.\", FutureWarning)\n"
          ],
          "name": "stderr"
        },
        {
          "output_type": "stream",
          "text": [
            "0.22\n",
            "[[10  0  0  0  0  0  0  0  0  0]\n",
            " [ 1  0  0  0  0  3  0  5  0  1]\n",
            " [ 0  0  0  0  0  0  0  9  0  1]\n",
            " [ 0  0  0  0  0  0  0  7  0  3]\n",
            " [ 2  0  0  0  0  1  0  3  0  4]\n",
            " [ 1  0  0  0  0  6  0  1  0  2]\n",
            " [ 1  0  0  0  0  2  0  5  0  2]\n",
            " [ 2  0  0  0  0  3  0  2  0  3]\n",
            " [ 1  0  0  0  0  1  0  6  0  2]\n",
            " [ 2  0  0  0  0  0  0  4  0  4]]\n",
            "------------------------------------\n",
            "Fitting Model With poly Kernel and Degree 12\n",
            "Model Fitted\n"
          ],
          "name": "stdout"
        },
        {
          "output_type": "stream",
          "text": [
            "/usr/local/lib/python3.6/dist-packages/sklearn/utils/validation.py:724: DataConversionWarning: A column-vector y was passed when a 1d array was expected. Please change the shape of y to (n_samples, ), for example using ravel().\n",
            "  y = column_or_1d(y, warn=True)\n",
            "/usr/local/lib/python3.6/dist-packages/sklearn/svm/base.py:193: FutureWarning: The default value of gamma will change from 'auto' to 'scale' in version 0.22 to account better for unscaled features. Set gamma explicitly to 'auto' or 'scale' to avoid this warning.\n",
            "  \"avoid this warning.\", FutureWarning)\n"
          ],
          "name": "stderr"
        },
        {
          "output_type": "stream",
          "text": [
            "0.56\n",
            "[[10  0  0  0  0  0  0  0  0  0]\n",
            " [ 0  0  6  0  0  0  0  2  2  0]\n",
            " [ 0  0 10  0  0  0  0  0  0  0]\n",
            " [ 0  0  4  0  0  0  0  0  6  0]\n",
            " [ 0  0  4  0  0  0  0  6  0  0]\n",
            " [ 0  0  1  0  0  8  0  1  0  0]\n",
            " [ 0  0  9  0  0  0  0  0  1  0]\n",
            " [ 0  0  0  0  0  0  0 10  0  0]\n",
            " [ 0  0  0  0  0  0  0  1  9  0]\n",
            " [ 0  0  0  0  0  0  0  1  0  9]]\n",
            "------------------------------------\n",
            "Fitting Model With poly Kernel and Degree 13\n",
            "Model Fitted\n"
          ],
          "name": "stdout"
        },
        {
          "output_type": "stream",
          "text": [
            "/usr/local/lib/python3.6/dist-packages/sklearn/utils/validation.py:724: DataConversionWarning: A column-vector y was passed when a 1d array was expected. Please change the shape of y to (n_samples, ), for example using ravel().\n",
            "  y = column_or_1d(y, warn=True)\n",
            "/usr/local/lib/python3.6/dist-packages/sklearn/svm/base.py:193: FutureWarning: The default value of gamma will change from 'auto' to 'scale' in version 0.22 to account better for unscaled features. Set gamma explicitly to 'auto' or 'scale' to avoid this warning.\n",
            "  \"avoid this warning.\", FutureWarning)\n"
          ],
          "name": "stderr"
        },
        {
          "output_type": "stream",
          "text": [
            "0.34\n",
            "[[10  0  0  0  0  0  0  0  0  0]\n",
            " [ 0  0  2  0  0  1  0  3  4  0]\n",
            " [ 0  0  9  0  0  0  0  0  1  0]\n",
            " [ 0  0  5  0  0  0  0  1  3  1]\n",
            " [ 0  0  3  0  0  0  0  3  1  3]\n",
            " [ 0  0  3  0  0  4  0  0  3  0]\n",
            " [ 0  0  3  0  0  1  0  2  4  0]\n",
            " [ 0  0  5  0  0  0  0  2  3  0]\n",
            " [ 0  0  1  0  0  0  0  3  6  0]\n",
            " [ 0  0  3  0  0  0  0  2  2  3]]\n",
            "------------------------------------\n",
            "Fitting Model With poly Kernel and Degree 14\n",
            "Model Fitted\n"
          ],
          "name": "stdout"
        },
        {
          "output_type": "stream",
          "text": [
            "/usr/local/lib/python3.6/dist-packages/sklearn/utils/validation.py:724: DataConversionWarning: A column-vector y was passed when a 1d array was expected. Please change the shape of y to (n_samples, ), for example using ravel().\n",
            "  y = column_or_1d(y, warn=True)\n",
            "/usr/local/lib/python3.6/dist-packages/sklearn/svm/base.py:193: FutureWarning: The default value of gamma will change from 'auto' to 'scale' in version 0.22 to account better for unscaled features. Set gamma explicitly to 'auto' or 'scale' to avoid this warning.\n",
            "  \"avoid this warning.\", FutureWarning)\n"
          ],
          "name": "stderr"
        },
        {
          "output_type": "stream",
          "text": [
            "0.56\n",
            "[[10  0  0  0  0  0  0  0  0  0]\n",
            " [ 0  0  6  0  0  0  0  2  2  0]\n",
            " [ 0  0 10  0  0  0  0  0  0  0]\n",
            " [ 0  0  4  0  0  0  0  0  6  0]\n",
            " [ 0  0  4  0  0  0  0  6  0  0]\n",
            " [ 0  0  1  0  0  8  0  1  0  0]\n",
            " [ 0  0  9  0  0  0  0  0  1  0]\n",
            " [ 0  0  0  0  0  0  0 10  0  0]\n",
            " [ 0  0  0  0  0  0  0  1  9  0]\n",
            " [ 0  0  0  0  0  0  0  1  0  9]]\n",
            "------------------------------------\n",
            "Fitting Model With poly Kernel and Degree 15\n",
            "Model Fitted\n"
          ],
          "name": "stdout"
        },
        {
          "output_type": "stream",
          "text": [
            "/usr/local/lib/python3.6/dist-packages/sklearn/utils/validation.py:724: DataConversionWarning: A column-vector y was passed when a 1d array was expected. Please change the shape of y to (n_samples, ), for example using ravel().\n",
            "  y = column_or_1d(y, warn=True)\n",
            "/usr/local/lib/python3.6/dist-packages/sklearn/svm/base.py:193: FutureWarning: The default value of gamma will change from 'auto' to 'scale' in version 0.22 to account better for unscaled features. Set gamma explicitly to 'auto' or 'scale' to avoid this warning.\n",
            "  \"avoid this warning.\", FutureWarning)\n"
          ],
          "name": "stderr"
        },
        {
          "output_type": "stream",
          "text": [
            "0.34\n",
            "[[10  0  0  0  0  0  0  0  0  0]\n",
            " [ 0  0  2  0  0  1  0  3  4  0]\n",
            " [ 0  0  9  0  0  0  0  0  1  0]\n",
            " [ 0  0  5  0  0  0  0  1  3  1]\n",
            " [ 0  0  3  0  0  0  0  3  1  3]\n",
            " [ 0  0  3  0  0  4  0  1  2  0]\n",
            " [ 0  0  3  0  0  1  0  1  5  0]\n",
            " [ 0  0  5  0  0  0  0  2  3  0]\n",
            " [ 0  0  1  0  0  0  0  3  6  0]\n",
            " [ 0  0  3  0  0  0  0  2  2  3]]\n",
            "------------------------------------\n",
            "Fitting Model With poly Kernel and Degree 16\n",
            "Model Fitted\n"
          ],
          "name": "stdout"
        },
        {
          "output_type": "stream",
          "text": [
            "/usr/local/lib/python3.6/dist-packages/sklearn/utils/validation.py:724: DataConversionWarning: A column-vector y was passed when a 1d array was expected. Please change the shape of y to (n_samples, ), for example using ravel().\n",
            "  y = column_or_1d(y, warn=True)\n",
            "/usr/local/lib/python3.6/dist-packages/sklearn/svm/base.py:193: FutureWarning: The default value of gamma will change from 'auto' to 'scale' in version 0.22 to account better for unscaled features. Set gamma explicitly to 'auto' or 'scale' to avoid this warning.\n",
            "  \"avoid this warning.\", FutureWarning)\n"
          ],
          "name": "stderr"
        },
        {
          "output_type": "stream",
          "text": [
            "0.56\n",
            "[[10  0  0  0  0  0  0  0  0  0]\n",
            " [ 0  0  6  0  0  0  0  2  2  0]\n",
            " [ 0  0 10  0  0  0  0  0  0  0]\n",
            " [ 0  0  5  0  0  0  0  0  5  0]\n",
            " [ 0  0  4  0  0  0  0  6  0  0]\n",
            " [ 0  0  1  0  0  8  0  1  0  0]\n",
            " [ 0  0  9  0  0  0  0  0  1  0]\n",
            " [ 0  0  0  0  0  0  0 10  0  0]\n",
            " [ 0  0  0  0  0  0  0  1  9  0]\n",
            " [ 0  0  0  0  0  0  0  1  0  9]]\n",
            "------------------------------------\n",
            "Fitting Model With poly Kernel and Degree 17\n",
            "Model Fitted\n"
          ],
          "name": "stdout"
        },
        {
          "output_type": "stream",
          "text": [
            "/usr/local/lib/python3.6/dist-packages/sklearn/utils/validation.py:724: DataConversionWarning: A column-vector y was passed when a 1d array was expected. Please change the shape of y to (n_samples, ), for example using ravel().\n",
            "  y = column_or_1d(y, warn=True)\n",
            "/usr/local/lib/python3.6/dist-packages/sklearn/svm/base.py:193: FutureWarning: The default value of gamma will change from 'auto' to 'scale' in version 0.22 to account better for unscaled features. Set gamma explicitly to 'auto' or 'scale' to avoid this warning.\n",
            "  \"avoid this warning.\", FutureWarning)\n"
          ],
          "name": "stderr"
        },
        {
          "output_type": "stream",
          "text": [
            "0.43\n",
            "[[10  0  0  0  0  0  0  0  0  0]\n",
            " [ 0 10  0  0  0  0  0  0  0  0]\n",
            " [ 0  0  9  0  0  0  0  0  1  0]\n",
            " [ 0  6  3  0  0  0  0  0  1  0]\n",
            " [ 0  6  1  0  0  0  0  2  1  0]\n",
            " [ 0  3  3  0  0  4  0  0  0  0]\n",
            " [ 0  2  3  0  0  1  0  1  3  0]\n",
            " [ 0  6  1  0  0  0  0  1  2  0]\n",
            " [ 0  3  1  0  0  0  0  1  5  0]\n",
            " [ 0  0  2  0  0  0  0  2  2  4]]\n",
            "------------------------------------\n",
            "Fitting Model With poly Kernel and Degree 18\n",
            "Model Fitted\n"
          ],
          "name": "stdout"
        },
        {
          "output_type": "stream",
          "text": [
            "/usr/local/lib/python3.6/dist-packages/sklearn/utils/validation.py:724: DataConversionWarning: A column-vector y was passed when a 1d array was expected. Please change the shape of y to (n_samples, ), for example using ravel().\n",
            "  y = column_or_1d(y, warn=True)\n",
            "/usr/local/lib/python3.6/dist-packages/sklearn/svm/base.py:193: FutureWarning: The default value of gamma will change from 'auto' to 'scale' in version 0.22 to account better for unscaled features. Set gamma explicitly to 'auto' or 'scale' to avoid this warning.\n",
            "  \"avoid this warning.\", FutureWarning)\n"
          ],
          "name": "stderr"
        },
        {
          "output_type": "stream",
          "text": [
            "0.57\n",
            "[[10  0  0  0  0  0  0  0  0  0]\n",
            " [ 0 10  0  0  0  0  0  0  0  0]\n",
            " [ 0  2  8  0  0  0  0  0  0  0]\n",
            " [ 0 10  0  0  0  0  0  0  0  0]\n",
            " [ 0  9  0  0  0  0  0  1  0  0]\n",
            " [ 0  4  1  0  0  4  0  1  0  0]\n",
            " [ 0  4  5  0  0  0  0  0  1  0]\n",
            " [ 0  2  0  0  0  0  0  8  0  0]\n",
            " [ 0  2  0  0  0  0  0  0  8  0]\n",
            " [ 0  0  0  0  0  0  0  1  0  9]]\n",
            "------------------------------------\n",
            "Fitting Model With poly Kernel and Degree 19\n",
            "Model Fitted\n"
          ],
          "name": "stdout"
        },
        {
          "output_type": "stream",
          "text": [
            "/usr/local/lib/python3.6/dist-packages/sklearn/utils/validation.py:724: DataConversionWarning: A column-vector y was passed when a 1d array was expected. Please change the shape of y to (n_samples, ), for example using ravel().\n",
            "  y = column_or_1d(y, warn=True)\n",
            "/usr/local/lib/python3.6/dist-packages/sklearn/svm/base.py:193: FutureWarning: The default value of gamma will change from 'auto' to 'scale' in version 0.22 to account better for unscaled features. Set gamma explicitly to 'auto' or 'scale' to avoid this warning.\n",
            "  \"avoid this warning.\", FutureWarning)\n"
          ],
          "name": "stderr"
        },
        {
          "output_type": "stream",
          "text": [
            "0.43\n",
            "[[10  0  0  0  0  0  0  0  0  0]\n",
            " [ 0 10  0  0  0  0  0  0  0  0]\n",
            " [ 0  0  9  0  0  0  0  0  1  0]\n",
            " [ 0  6  3  0  0  0  0  0  1  0]\n",
            " [ 0  6  1  0  0  0  0  2  1  0]\n",
            " [ 0  3  3  0  0  4  0  0  0  0]\n",
            " [ 0  2  3  0  0  1  0  1  3  0]\n",
            " [ 0  6  1  0  0  0  0  1  2  0]\n",
            " [ 0  3  1  0  0  0  0  1  5  0]\n",
            " [ 0  0  2  0  0  0  0  2  2  4]]\n",
            "------------------------------------\n"
          ],
          "name": "stdout"
        }
      ]
    }
  ]
}